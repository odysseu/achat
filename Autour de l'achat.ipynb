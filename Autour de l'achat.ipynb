{
 "cells": [
  {
   "cell_type": "markdown",
   "id": "084a7529-ae98-43f3-8bf2-7e8ca56225e7",
   "metadata": {},
   "source": [
    "Pour acheter un bien immobilier il y a plusieurs choses à regarder:\n",
    "- le profile emprunteur (toi, fumeuse ?, est-ce que tu vas travailler longtemps ? ton salaire, tes emprunts)\n",
    "- le bien (neuf, ancien, pour résidence principale ?, revenu locatif ?)\n",
    "- combien de sous tu veux mettre (ton apport)\n",
    "- combien tu veux emprunter (le montant et sur combien de temps. ça implique le calcul du taux, et donc  etc...)"
   ]
  },
  {
   "cell_type": "markdown",
   "id": "79e00a03-f42b-4a97-ac96-98d4ac64d211",
   "metadata": {
    "tags": []
   },
   "source": [
    "# 1 Le profile acheteur\n",
    "\n",
    "Ce qui compte c'est ton salaire actuel et ce que tu peux rembourser plus tard.\n",
    "- Le plus de salaire tu as le mieux.\n",
    "- Le plus ta carrière est progressive le mieux aussi.\n",
    "Au moment de la simulation d'emprunt, la banque mesure ta **capacité d'emprunt**.\n",
    "Normalement, l'établissement emprunteur (la banque) fixe **le taux d'endettement** à **33 % au plus**. Il peut faire preuve d'indulgence, mais seulement envers quelques catégories de personnes, telles que celles qui disposent des revenus élevés, les jeunes avec un avenir prometteur (ayant du potentiel, les ingénieurs & cadres, les gens en bonne santé ...).\n",
    "\n",
    "\n",
    "_Exemple de capacité de ramboursement mensuel_\n",
    "\n",
    "> Si `salaire_mensuel = 2700€` avec `taux_endettement = 33% = 0,33`\n",
    "> \n",
    "> Alors `capacité_remboursement_mensuel = salaire_mensuel * taux_endettement = 2700 * 0,33 = 900€`\n",
    ">\n",
    "> C'est une valeur maximum.\n",
    ">\n",
    "> Le `reste_à_vivre` est alors de `reste_à_vivre = salaire_mensuel - capacité_remboursement_mensuel = 1800€`\n",
    "\n",
    "\n",
    "_Remarque_\n",
    "\n",
    "> La capacité d'emprunt est calculée avec les valeurs à la date d'emprunt. Cependant, comme le taux d'endettement est variable selon le profile, la banque arrondira au dessus puisque ta carrière pro est progressive et tu gagneras toujours plus de moulax.\n"
   ]
  },
  {
   "cell_type": "markdown",
   "id": "d4f0d6fd-e11a-4ecf-8122-404d82a59e04",
   "metadata": {},
   "source": [
    "# 2 Le type de bien immobilier\n",
    "\n",
    "Si c'est du neuf (les immeubles qui ne sont pas achevés depuis plus de cinq années)\n",
    "- moins cher à assurer (assurance logement obligatoire)\n",
    "- les frais de notaire sont moitié moins chers\n",
    "- mais il y a des normes relou sur le bâtiment (par exemple dans un immeuble neuf tu dois vérifier des normes d'accessibilité handicapé donc une largeur de porte tout ça)"
   ]
  },
  {
   "cell_type": "markdown",
   "id": "2b4b5612-4b37-4b17-ad69-612cabd480e9",
   "metadata": {},
   "source": [
    "# 3 L'apport\n",
    "\n",
    "L'**apport** c'est la participation financière ou patrimoniale pour un achat.\n",
    "Si tu as des économies de côté et que tu veux les mettre dans ton projet, tu fais un apport.\n",
    "\n",
    "_Exemple de capacité d'emprunt avec apport_\n",
    "\n",
    "> Si `salaire_mensuel = 2,7k€`\n",
    ">\n",
    "> `taux_endettement = 33% = 0,33`\n",
    ">\n",
    "> `prix_bien = 150k€`\n",
    ">\n",
    "> `apport = 15k€` \n",
    "> \n",
    "> Alors tu dois encore payer `prix_bien - apport = 150k - 15k = 135k€`\n",
    ">\n",
    "> Si tu dois rembourser 135k€ à hauteur de 900€ par mois, t'en as pour `135000 / 900 = {glue:}135000/900"
   ]
  },
  {
   "cell_type": "code",
   "execution_count": null,
   "id": "ddb78557-9d3c-40fd-b088-5eeb13244ecb",
   "metadata": {},
   "outputs": [],
   "source": []
  }
 ],
 "metadata": {
  "kernelspec": {
   "display_name": "Python 3 (ipykernel)",
   "language": "python",
   "name": "python3"
  },
  "language_info": {
   "codemirror_mode": {
    "name": "ipython",
    "version": 3
   },
   "file_extension": ".py",
   "mimetype": "text/x-python",
   "name": "python",
   "nbconvert_exporter": "python",
   "pygments_lexer": "ipython3",
   "version": "3.9.12"
  }
 },
 "nbformat": 4,
 "nbformat_minor": 5
}
